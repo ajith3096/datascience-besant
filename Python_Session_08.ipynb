{
 "cells": [
  {
   "cell_type": "markdown",
   "id": "a6b205cf",
   "metadata": {},
   "source": [
    "# Python Functions\n",
    "A function is a block of code which only runs when it is called.\n",
    "\n",
    "You can pass data, known as parameters, into a function.\n",
    "\n",
    "A function can return data as a result.\n",
    "\n",
    "## Creating a Function\n",
    "In Python a function is defined using the def keyword:"
   ]
  },
  {
   "cell_type": "code",
   "execution_count": null,
   "id": "44ddff68",
   "metadata": {},
   "outputs": [],
   "source": [
    "def my_function():\n",
    "    print(\"Hello from a function\")"
   ]
  },
  {
   "cell_type": "markdown",
   "id": "8faa2be5",
   "metadata": {},
   "source": [
    "## Calling a Function\n",
    "To call a function, use the function name followed by parenthesis:"
   ]
  },
  {
   "cell_type": "code",
   "execution_count": null,
   "id": "17a0bf7f",
   "metadata": {},
   "outputs": [],
   "source": [
    "def my_function():\n",
    "  print(\"Hello from a function\")\n",
    "\n",
    "my_function()"
   ]
  },
  {
   "cell_type": "markdown",
   "id": "448dbdc9",
   "metadata": {},
   "source": [
    "## Arguments\n",
    "Information can be passed into functions as arguments.\n",
    "\n",
    "Arguments are specified after the function name, inside the parentheses. You can add as many arguments as you want, just separate them with a comma.\n",
    "\n",
    "The following example has a function with one argument (fname). When the function is called, we pass along a first name, which is used inside the function to print the full name:"
   ]
  },
  {
   "cell_type": "code",
   "execution_count": null,
   "id": "8d055445",
   "metadata": {},
   "outputs": [],
   "source": [
    "def my_function(fname): #fname = e \n",
    "  print(fname + \" Welcome to The Session!\")\n",
    "\n",
    "e= \"Santhosh\"\n",
    "my_function(\"Emil\")\n",
    "my_function(\"Tobias\")\n",
    "my_function(\"Linus\")\n",
    "my_function(e)"
   ]
  },
  {
   "cell_type": "markdown",
   "id": "7fc1f500",
   "metadata": {},
   "source": [
    "## Number of Arguments\n",
    "By default, a function must be called with the correct number of arguments. Meaning that if your function expects 2 arguments, you have to call the function with 2 arguments, not more, and not less."
   ]
  },
  {
   "cell_type": "code",
   "execution_count": null,
   "id": "541ebd64",
   "metadata": {},
   "outputs": [],
   "source": [
    "def my_function(fname, lname):\n",
    "    if fname == \"Emil\":\n",
    "        print(fname + \" \" + lname)\n",
    "    elif fname== \"Sanjay\":\n",
    "        print(\"No Allowed\")\n",
    "\n",
    "#Calculation\n",
    "#b = some vale\n",
    "my_function(\"Sanjay\")"
   ]
  },
  {
   "cell_type": "markdown",
   "id": "6a1a618e",
   "metadata": {},
   "source": [
    "## Arbitrary Arguments, *args\n",
    "If you do not know how many arguments that will be passed into your function, add a * before the parameter name in the function definition.\n",
    "\n",
    "This way the function will receive a tuple of arguments, and can access the items accordingly:"
   ]
  },
  {
   "cell_type": "code",
   "execution_count": null,
   "id": "027fd30b",
   "metadata": {},
   "outputs": [],
   "source": [
    "def my_function(*kids):\n",
    "  print(\"The youngest child is \" + kids[2])\n",
    "\n",
    "my_function(\"Emil\", \"Tobias\", \"Linus\")"
   ]
  },
  {
   "cell_type": "markdown",
   "id": "a255127a",
   "metadata": {},
   "source": [
    "## Arbitrary Keyword Arguments, **kwargs\n",
    "If you do not know how many keyword arguments that will be passed into your function, add two asterisk: ** before the parameter name in the function definition.\n",
    "\n",
    "This way the function will receive a dictionary of arguments, and can access the items accordingly:"
   ]
  },
  {
   "cell_type": "code",
   "execution_count": null,
   "id": "4d5d6887",
   "metadata": {},
   "outputs": [],
   "source": [
    "def my_function(**kid):\n",
    "  print(\"His last name is \" + kid[\"lname\"])\n",
    "\n",
    "my_function(fname = \"Tobias\", lname = \"Refsnes\")\n"
   ]
  },
  {
   "cell_type": "markdown",
   "id": "588d6dc8",
   "metadata": {},
   "source": [
    "## Default Parameter Value\n",
    "The following example shows how to use a default parameter value.\n",
    "\n",
    "If we call the function without argument, it uses the default value:"
   ]
  },
  {
   "cell_type": "code",
   "execution_count": null,
   "id": "4896fabe",
   "metadata": {},
   "outputs": [],
   "source": [
    "def my_function(fname, lname, mname = \"M\"):\n",
    "    print(\"First Name: \", fname)\n",
    "    print(\"First Name: \", mname)\n",
    "    print(\"First Name: \", lname)\n",
    "\n",
    "\n",
    "my_function(\"Sweden\", \"johnson\", \"L\")\n"
   ]
  },
  {
   "cell_type": "markdown",
   "id": "99464c12",
   "metadata": {},
   "source": [
    "## Passing a List as an Argument\n",
    "You can send any data types of argument to a function (string, number, list, dictionary etc.), and it will be treated as the same data type inside the function.\n",
    "\n",
    "E.g. if you send a List as an argument, it will still be a List when it reaches the function:"
   ]
  },
  {
   "cell_type": "code",
   "execution_count": null,
   "id": "9f4ad193",
   "metadata": {},
   "outputs": [],
   "source": [
    "def my_function(food):\n",
    "  for x in food:\n",
    "    print(x)\n",
    "\n",
    "fruits = [\"apple\", \"banana\", \"cherry\"]\n",
    "\n",
    "my_function(fruits)"
   ]
  },
  {
   "cell_type": "markdown",
   "id": "8b8f2560",
   "metadata": {},
   "source": [
    "## Return Values\n",
    "To let a function return a value, use the return statement:"
   ]
  },
  {
   "cell_type": "code",
   "execution_count": null,
   "id": "fe63cdc4",
   "metadata": {},
   "outputs": [],
   "source": [
    "def my_function(x):\n",
    "    return 5 * x\n",
    "\n",
    "print(my_function(3))#==> print(15)\n",
    "print(my_function(5))\n",
    "print(my_function(9))"
   ]
  },
  {
   "cell_type": "markdown",
   "id": "ce6be246",
   "metadata": {},
   "source": [
    "## The pass Statement\n",
    "function definitions cannot be empty, but if you for some reason have a function definition with no content, put in the pass statement to avoid getting an error."
   ]
  },
  {
   "cell_type": "code",
   "execution_count": null,
   "id": "3a0d5ce6",
   "metadata": {},
   "outputs": [],
   "source": [
    "def myfunction():\n",
    "    pass"
   ]
  },
  {
   "cell_type": "markdown",
   "id": "b470bd5b",
   "metadata": {},
   "source": [
    "## Recursion\n",
    "Python also accepts function recursion, which means a defined function can call itself.\n",
    "\n",
    "Recursion is a common mathematical and programming concept. It means that a function calls itself. This has the benefit of meaning that you can loop through data to reach a result.\n",
    "\n",
    "The developer should be very careful with recursion as it can be quite easy to slip into writing a function which never terminates, or one that uses excess amounts of memory or processor power. However, when written correctly recursion can be a very efficient and mathematically-elegant approach to programming.\n",
    "\n",
    "In this example, tri_recursion() is a function that we have defined to call itself (\"recurse\"). We use the k variable as the data, which decrements (-1) every time we recurse. The recursion ends when the condition is not greater than 0 (i.e. when it is 0).\n",
    "\n",
    "To a new developer it can take some time to work out how exactly this works, best way to find out is by testing and modifying it."
   ]
  },
  {
   "cell_type": "code",
   "execution_count": null,
   "id": "3abe66bc",
   "metadata": {},
   "outputs": [],
   "source": [
    "def tri_recursion(k):\n",
    "  if(k > 0):\n",
    "    result = k + tri_recursion(k - 1)\n",
    "    print(result)\n",
    "  else:\n",
    "    result = 0\n",
    "  return result\n",
    "\n",
    "print(\"\\n\\nRecursion Example Results\")\n",
    "tri_recursion(6)"
   ]
  },
  {
   "cell_type": "code",
   "execution_count": null,
   "id": "3f41a8ff",
   "metadata": {},
   "outputs": [],
   "source": []
  }
 ],
 "metadata": {
  "kernelspec": {
   "display_name": "Python 3",
   "language": "python",
   "name": "python3"
  },
  "language_info": {
   "codemirror_mode": {
    "name": "ipython",
    "version": 3
   },
   "file_extension": ".py",
   "mimetype": "text/x-python",
   "name": "python",
   "nbconvert_exporter": "python",
   "pygments_lexer": "ipython3",
   "version": "3.9.4"
  }
 },
 "nbformat": 4,
 "nbformat_minor": 5
}
