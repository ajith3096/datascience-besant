{
 "cells": [
  {
   "cell_type": "markdown",
   "id": "bd61381d",
   "metadata": {},
   "source": [
    "# Read csv using pandas.read_csv()\n",
    "read_csv is an important pandas function to read csv files and do operations on it. "
   ]
  },
  {
   "cell_type": "code",
   "execution_count": null,
   "id": "85b17a42",
   "metadata": {},
   "outputs": [],
   "source": [
    "# Import pandas\n",
    "import pandas as pd\n",
    " \n",
    "# reading csv file\n",
    "pd.read_csv(\"filename.csv\")"
   ]
  },
  {
   "cell_type": "markdown",
   "id": "683f095a",
   "metadata": {},
   "source": [
    "pd.read_csv(filepath_or_buffer, sep=’, ‘, delimiter=None, header=’infer’, names=None, index_col=None, usecols=None, squeeze=False, prefix=None, mangle_dupe_cols=True, dtype=None, engine=None, converters=None, true_values=None, false_values=None, skipinitialspace=False, skiprows=None, nrows=None, na_values=None, keep_default_na=True, na_filter=True, verbose=False, skip_blank_lines=True, parse_dates=False, infer_datetime_format=False, keep_date_col=False, date_parser=None, dayfirst=False, iterator=False, chunksize=None, compression=’infer’, thousands=None, decimal=b’.’, lineterminator=None, quotechar='”‘, quoting=0, escapechar=None, comment=None, encoding=None, dialect=None, tupleize_cols=None, error_bad_lines=True, warn_bad_lines=True, skipfooter=0, doublequote=True, delim_whitespace=False, low_memory=True, memory_map=False, float_precision=None) "
   ]
  },
  {
   "cell_type": "code",
   "execution_count": null,
   "id": "350198fa",
   "metadata": {},
   "outputs": [],
   "source": [
    "# importing Pandas library\n",
    "import pandas as pd\n",
    " \n",
    "pd.read_csv(filepath_or_buffer = \"pokemon.csv\")\n",
    " \n",
    "# makes the passed rows header\n",
    "pd.read_csv(\"pokemon.csv\", header =[1, 2])\n",
    " \n",
    "# make the passed column as index instead of 0, 1, 2, 3....\n",
    "pd.read_csv(\"pokemon.csv\", index_col ='Type')\n",
    " \n",
    "# uses passed cols only for data frame\n",
    "pd.read_csv(\"pokemon.csv\", usecols =[\"Type\"])\n",
    " \n",
    "# returns pandas series if there is only one column\n",
    "pd.read_csv(\"pokemon.csv\", usecols =[\"Type\"],\n",
    "                              squeeze = True)\n",
    "                               \n",
    "# skips the passed rows in new series\n",
    "pd.read_csv(\"pokemon.csv\",\n",
    "            skiprows = [1, 2, 3, 4])\n"
   ]
  },
  {
   "cell_type": "markdown",
   "id": "0a6f22d7",
   "metadata": {},
   "source": [
    "# Other Read options:\n",
    "\n",
    "https://realpython.com/pandas-read-write-files/\n",
    "\n",
    "https://pandas.pydata.org/docs/user_guide/io.html"
   ]
  },
  {
   "cell_type": "code",
   "execution_count": null,
   "id": "91c7b223",
   "metadata": {},
   "outputs": [],
   "source": []
  }
 ],
 "metadata": {
  "kernelspec": {
   "display_name": "Python 3",
   "language": "python",
   "name": "python3"
  },
  "language_info": {
   "codemirror_mode": {
    "name": "ipython",
    "version": 3
   },
   "file_extension": ".py",
   "mimetype": "text/x-python",
   "name": "python",
   "nbconvert_exporter": "python",
   "pygments_lexer": "ipython3",
   "version": "3.9.4"
  }
 },
 "nbformat": 4,
 "nbformat_minor": 5
}
