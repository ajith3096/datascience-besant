{
 "cells": [
  {
   "cell_type": "markdown",
   "id": "bc7c0fe0",
   "metadata": {},
   "source": [
    "# File Handling\n",
    "The key function for working with files in Python is the open() function.\n",
    "\n",
    "The open() function takes two parameters; filename, and mode.\n"
   ]
  },
  {
   "cell_type": "markdown",
   "id": "4935664c",
   "metadata": {},
   "source": [
    "There are four different methods (modes) for opening a file:\n",
    "\n",
    "\"r\" - Read - Default value. Opens a file for reading, error if the file does not exist\n",
    "\n",
    "\"a\" - Append - Opens a file for appending, creates the file if it does not exist\n",
    "\n",
    "\"w\" - Write - Opens a file for writing, creates the file if it does not exist\n",
    "\n",
    "\"x\" - Create - Creates the specified file, returns an error if the file exists"
   ]
  },
  {
   "cell_type": "markdown",
   "id": "9e6d2517",
   "metadata": {},
   "source": [
    "In addition you can specify if the file should be handled as binary or text mode\n",
    "\n",
    "\"t\" - Text - Default value. Text mode\n",
    "\n",
    "\"b\" - Binary - Binary mode (e.g. images)"
   ]
  },
  {
   "cell_type": "markdown",
   "id": "8a580b10",
   "metadata": {},
   "source": [
    "## Syntax\n",
    "To open a file for reading it is enough to specify the name of the file:"
   ]
  },
  {
   "cell_type": "code",
   "execution_count": 2,
   "id": "73013cea",
   "metadata": {},
   "outputs": [],
   "source": [
    "f = open(\"Python_Fundamentals.txt\")"
   ]
  },
  {
   "cell_type": "code",
   "execution_count": 3,
   "id": "6c33c86a",
   "metadata": {},
   "outputs": [
    {
     "name": "stdout",
     "output_type": "stream",
     "text": [
      "<_io.TextIOWrapper name='Python_Fundamentals.txt' mode='r' encoding='cp1252'>\n"
     ]
    }
   ],
   "source": [
    "print(f)"
   ]
  },
  {
   "cell_type": "code",
   "execution_count": 4,
   "id": "c363c49a",
   "metadata": {},
   "outputs": [],
   "source": [
    "f = open(\"Python_Fundamentals.txt\", \"rt\")"
   ]
  },
  {
   "cell_type": "code",
   "execution_count": 5,
   "id": "51ef43a9",
   "metadata": {},
   "outputs": [
    {
     "name": "stdout",
     "output_type": "stream",
     "text": [
      "<_io.TextIOWrapper name='Python_Fundamentals.txt' mode='rt' encoding='cp1252'>\n"
     ]
    }
   ],
   "source": [
    "print(f)"
   ]
  },
  {
   "cell_type": "markdown",
   "id": "caa3f0a6",
   "metadata": {},
   "source": [
    "## Open a File on the Server\n",
    "Assume we have the following file, located in the same folder as Python:"
   ]
  },
  {
   "cell_type": "markdown",
   "id": "f33a3592",
   "metadata": {},
   "source": [
    "To open the file, use the built-in open() function.\n",
    "\n",
    "The open() function returns a file object, which has a read() method for reading the content of the file:"
   ]
  },
  {
   "cell_type": "code",
   "execution_count": 6,
   "id": "d4997962",
   "metadata": {},
   "outputs": [
    {
     "name": "stdout",
     "output_type": "stream",
     "text": [
      "Hi There Coder!\n",
      "You are doing great.\n",
      "Keep up the good spirit.\n",
      "All will be well.\n",
      "\n"
     ]
    }
   ],
   "source": [
    "f = open(\"Python_Fundamentals.txt\", \"r\")\n",
    "print(f.read())"
   ]
  },
  {
   "cell_type": "code",
   "execution_count": 12,
   "id": "144040f4",
   "metadata": {},
   "outputs": [
    {
     "name": "stdout",
     "output_type": "stream",
     "text": [
      "\n"
     ]
    }
   ],
   "source": [
    "# Open a file on a different location:\n",
    "\n",
    "f = open(r\"C:\\Users\\santhosh.b.shankar.DIR\\Desktop\\Python\\Sample\\Python_Fundamentals.txt\", \"r\")\n",
    "print(f.read())"
   ]
  },
  {
   "cell_type": "code",
   "execution_count": 9,
   "id": "ce9eb00a",
   "metadata": {},
   "outputs": [
    {
     "name": "stdout",
     "output_type": "stream",
     "text": [
      "Hi There Coder!\n",
      "You are doing great.\n",
      "Keep it up!\n",
      "\n"
     ]
    }
   ],
   "source": [
    "f1 = open(r\"C:\\Users\\santhosh.b.shankar.DIR\\Desktop\\Python\\Sample\\Python_Fundamentals.txt\", \"r\")\n",
    "print(f1.read())"
   ]
  },
  {
   "cell_type": "markdown",
   "id": "d4ade069",
   "metadata": {},
   "source": [
    "## Read Only Parts of the File\n",
    "By default the read() method returns the whole text, but you can also specify how many characters you want to return:"
   ]
  },
  {
   "cell_type": "code",
   "execution_count": 13,
   "id": "ed672b0e",
   "metadata": {},
   "outputs": [
    {
     "name": "stdout",
     "output_type": "stream",
     "text": [
      "Hi Th\n"
     ]
    }
   ],
   "source": [
    "#Return the 5 first characters of the file:\n",
    "\n",
    "f = open(\"Python_Fundamentals.txt\", \"r\")\n",
    "print(f.read(5))"
   ]
  },
  {
   "cell_type": "code",
   "execution_count": 15,
   "id": "a6f09f05",
   "metadata": {},
   "outputs": [
    {
     "data": {
      "text/plain": [
       "_io.TextIOWrapper"
      ]
     },
     "execution_count": 15,
     "metadata": {},
     "output_type": "execute_result"
    }
   ],
   "source": [
    "type(f)"
   ]
  },
  {
   "cell_type": "markdown",
   "id": "1a9c5a9a",
   "metadata": {},
   "source": [
    "## Read Lines\n",
    "You can return one line by using the readline() method:"
   ]
  },
  {
   "cell_type": "code",
   "execution_count": 14,
   "id": "3506a8ee",
   "metadata": {},
   "outputs": [
    {
     "name": "stdout",
     "output_type": "stream",
     "text": [
      "Hi There Coder!\n",
      "\n"
     ]
    }
   ],
   "source": [
    "f = open(\"Python_Fundamentals.txt\", \"r\")\n",
    "print(f.readline())"
   ]
  },
  {
   "cell_type": "markdown",
   "id": "848bfce9",
   "metadata": {},
   "source": [
    "By looping through the lines of the file, you can read the whole file, line by line:"
   ]
  },
  {
   "cell_type": "code",
   "execution_count": 16,
   "id": "e8afea50",
   "metadata": {},
   "outputs": [
    {
     "name": "stdout",
     "output_type": "stream",
     "text": [
      "Hi There Coder!\n",
      "\n",
      "You are doing great.\n",
      "\n",
      "Keep up the good spirit.\n",
      "\n",
      "All will be well.\n",
      "\n"
     ]
    }
   ],
   "source": [
    "f = open(\"Python_Fundamentals.txt\", \"r\")\n",
    "for x in f:\n",
    "  print(x)"
   ]
  },
  {
   "cell_type": "markdown",
   "id": "f676b56a",
   "metadata": {},
   "source": [
    "## Close Files\n",
    "It is a good practice to always close the file when you are done with it."
   ]
  },
  {
   "cell_type": "code",
   "execution_count": 17,
   "id": "e64d91cb",
   "metadata": {},
   "outputs": [
    {
     "name": "stdout",
     "output_type": "stream",
     "text": [
      "Hi There Coder!\n",
      "\n"
     ]
    }
   ],
   "source": [
    "f = open(\"Python_Fundamentals.txt\", \"r\")\n",
    "print(f.readline())\n",
    "f.close()"
   ]
  },
  {
   "cell_type": "markdown",
   "id": "19bcf021",
   "metadata": {},
   "source": [
    "## With Statement Usage\n",
    "Opening a file using with is as simple as: with open(filename) as file:"
   ]
  },
  {
   "cell_type": "code",
   "execution_count": 18,
   "id": "0734372b",
   "metadata": {},
   "outputs": [],
   "source": [
    "with open('output.txt', 'w') as file:  # Use file to refer to the file object\n",
    "\n",
    "    file.write('Hi there!')\n",
    "    \n",
    "\n",
    "#Notice, that we didn’t have to write “file.close()”. That will automatically be called."
   ]
  },
  {
   "cell_type": "markdown",
   "id": "00a994ce",
   "metadata": {},
   "source": [
    "# Python File Write\n",
    "## Write to an Existing File\n",
    "To write to an existing file, you must add a parameter to the open() function:\n",
    "\n",
    "\"a\" - Append - will append to the end of the file\n",
    "\n",
    "\"w\" - Write - will overwrite any existing content"
   ]
  },
  {
   "cell_type": "code",
   "execution_count": 21,
   "id": "ed47440d",
   "metadata": {},
   "outputs": [
    {
     "name": "stdout",
     "output_type": "stream",
     "text": [
      "Now the file has more content!Hi There!\n"
     ]
    }
   ],
   "source": [
    "f = open(\"Output.txt\", \"a\")\n",
    "f.write(\"Hi There!\")\n",
    "f.close()\n",
    "\n",
    "#open and read the file after the appending:\n",
    "f = open(\"Output.txt\", \"r\")\n",
    "print(f.read())"
   ]
  },
  {
   "cell_type": "code",
   "execution_count": null,
   "id": "61f4a189",
   "metadata": {},
   "outputs": [],
   "source": [
    "f = open(\"Python_Fundamentals.txt\", \"w\")\n",
    "f.write(\"Woops! I have deleted the content!\")\n",
    "f.close()\n",
    "\n",
    "#open and read the file after the appending:\n",
    "f = open(\"Python_Fundamentals.txt\", \"r\")\n",
    "print(f.read())"
   ]
  },
  {
   "cell_type": "markdown",
   "id": "4df3f8cb",
   "metadata": {},
   "source": [
    "# Create a New File\n",
    "To create a new file in Python, use the open() method, with one of the following parameters:\n",
    "\n",
    "\"x\" - Create - will create a file, returns an error if the file exist\n",
    "\n",
    "\"a\" - Append - will create a file if the specified file does not exist\n",
    "\n",
    "\"w\" - Write - will create a file if the specified file does not exist"
   ]
  },
  {
   "cell_type": "code",
   "execution_count": 22,
   "id": "36f05af9",
   "metadata": {},
   "outputs": [],
   "source": [
    "f = open(\"myfile.txt\", \"x\")"
   ]
  },
  {
   "cell_type": "code",
   "execution_count": 24,
   "id": "a864b74a",
   "metadata": {},
   "outputs": [],
   "source": [
    "f = open(\"myfile.txt\", \"w\")\n",
    "f.close()"
   ]
  },
  {
   "cell_type": "markdown",
   "id": "c71d061d",
   "metadata": {},
   "source": [
    "# Python Delete File\n",
    "## Delete a File\n",
    "To delete a file, you must import the OS module, and run its os.remove() function:"
   ]
  },
  {
   "cell_type": "code",
   "execution_count": 25,
   "id": "f4554e0c",
   "metadata": {},
   "outputs": [],
   "source": [
    "import os\n",
    "os.remove(\"myfile.txt\")"
   ]
  },
  {
   "cell_type": "code",
   "execution_count": 27,
   "id": "406aba01",
   "metadata": {},
   "outputs": [
    {
     "name": "stdout",
     "output_type": "stream",
     "text": [
      "The file does not exist\n"
     ]
    }
   ],
   "source": [
    "import os\n",
    "if os.path.exists(\"output.txt\"):\n",
    "  os.remove(\"output.txt\")\n",
    "else:\n",
    "  print(\"The file does not exist\")"
   ]
  },
  {
   "cell_type": "markdown",
   "id": "0af33665",
   "metadata": {},
   "source": [
    "## Delete Folder\n",
    "To delete an entire folder, use the os.rmdir() method:"
   ]
  },
  {
   "cell_type": "code",
   "execution_count": 28,
   "id": "0869946c",
   "metadata": {},
   "outputs": [
    {
     "ename": "OSError",
     "evalue": "[WinError 145] The directory is not empty: 'Sample'",
     "output_type": "error",
     "traceback": [
      "\u001b[1;31m---------------------------------------------------------------------------\u001b[0m",
      "\u001b[1;31mOSError\u001b[0m                                   Traceback (most recent call last)",
      "\u001b[1;32m<ipython-input-28-90c25a6db9f5>\u001b[0m in \u001b[0;36m<module>\u001b[1;34m\u001b[0m\n\u001b[0;32m      1\u001b[0m \u001b[1;32mimport\u001b[0m \u001b[0mos\u001b[0m\u001b[1;33m\u001b[0m\u001b[1;33m\u001b[0m\u001b[0m\n\u001b[1;32m----> 2\u001b[1;33m \u001b[0mos\u001b[0m\u001b[1;33m.\u001b[0m\u001b[0mrmdir\u001b[0m\u001b[1;33m(\u001b[0m\u001b[1;34m\"Sample\"\u001b[0m\u001b[1;33m)\u001b[0m\u001b[1;33m\u001b[0m\u001b[1;33m\u001b[0m\u001b[0m\n\u001b[0m",
      "\u001b[1;31mOSError\u001b[0m: [WinError 145] The directory is not empty: 'Sample'"
     ]
    }
   ],
   "source": [
    "import os\n",
    "os.rmdir(\"Sample\")"
   ]
  },
  {
   "cell_type": "markdown",
   "id": "60699758",
   "metadata": {},
   "source": [
    "Please Have a look at \n",
    "glob module : https://pynative.com/python-glob/#:~:text=Python%20glob.,UNIX%20shell-style%20wildcards).\n",
    "\n",
    "\n",
    "and \n",
    "\n",
    "\n",
    "datetime module :https://www.w3schools.com/python/python_datetime.asp"
   ]
  },
  {
   "cell_type": "code",
   "execution_count": null,
   "id": "1af80bd0",
   "metadata": {},
   "outputs": [],
   "source": []
  }
 ],
 "metadata": {
  "kernelspec": {
   "display_name": "Python 3",
   "language": "python",
   "name": "python3"
  },
  "language_info": {
   "codemirror_mode": {
    "name": "ipython",
    "version": 3
   },
   "file_extension": ".py",
   "mimetype": "text/x-python",
   "name": "python",
   "nbconvert_exporter": "python",
   "pygments_lexer": "ipython3",
   "version": "3.9.4"
  }
 },
 "nbformat": 4,
 "nbformat_minor": 5
}
