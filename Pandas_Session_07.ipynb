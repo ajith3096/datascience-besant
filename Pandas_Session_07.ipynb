{
 "cells": [
  {
   "cell_type": "markdown",
   "id": "4078b181",
   "metadata": {},
   "source": [
    "# Pandas GroupBy"
   ]
  },
  {
   "cell_type": "markdown",
   "id": "587ce0df",
   "metadata": {},
   "source": [
    "### Grouping data with one key: \n",
    "In order to group data with one key, we pass only one key as an argument in groupby function. "
   ]
  },
  {
   "cell_type": "code",
   "execution_count": 1,
   "id": "7fa430fd",
   "metadata": {},
   "outputs": [
    {
     "name": "stdout",
     "output_type": "stream",
     "text": [
      "     Name  Age    Address Qualification\n",
      "0     Jai   27     Nagpur           Msc\n",
      "1    Anuj   24     Kanpur            MA\n",
      "2     Jai   22  Allahabad           MCA\n",
      "3  Princi   32    Kannuaj           Phd\n",
      "4  Gaurav   33    Jaunpur        B.Tech\n",
      "5    Anuj   36     Kanpur         B.com\n",
      "6  Princi   27  Allahabad           Msc\n",
      "7    Abhi   32    Aligarh            MA\n"
     ]
    }
   ],
   "source": [
    "# importing pandas module\n",
    "import pandas as pd\n",
    "  \n",
    "# Define a dictionary containing employee data\n",
    "data1 = {'Name':['Jai', 'Anuj', 'Jai', 'Princi',\n",
    "                 'Gaurav', 'Anuj', 'Princi', 'Abhi'],\n",
    "        'Age':[27, 24, 22, 32,\n",
    "               33, 36, 27, 32],\n",
    "        'Address':['Nagpur', 'Kanpur', 'Allahabad', 'Kannuaj',\n",
    "                   'Jaunpur', 'Kanpur', 'Allahabad', 'Aligarh'],\n",
    "        'Qualification':['Msc', 'MA', 'MCA', 'Phd',\n",
    "                         'B.Tech', 'B.com', 'Msc', 'MA']}\n",
    "    \n",
    "  \n",
    "# Convert the dictionary into DataFrame \n",
    "df = pd.DataFrame(data1)\n",
    "\n",
    "print(df)"
   ]
  },
  {
   "cell_type": "code",
   "execution_count": 6,
   "id": "4bcef235",
   "metadata": {},
   "outputs": [
    {
     "name": "stdout",
     "output_type": "stream",
     "text": [
      "{'Abhi': [7], 'Anuj': [1, 5], 'Gaurav': [4], 'Jai': [0, 2], 'Princi': [3, 6]}\n"
     ]
    }
   ],
   "source": [
    "# using groupby function\n",
    "# with one key\n",
    " \n",
    "df.groupby('Name')\n",
    "print(df.groupby('Name').groups)"
   ]
  },
  {
   "cell_type": "markdown",
   "id": "fa5b34f7",
   "metadata": {},
   "source": [
    "Now we print the first entries in all the groups formed. "
   ]
  },
  {
   "cell_type": "code",
   "execution_count": 3,
   "id": "0bf99cab",
   "metadata": {},
   "outputs": [
    {
     "data": {
      "text/html": [
       "<div>\n",
       "<style scoped>\n",
       "    .dataframe tbody tr th:only-of-type {\n",
       "        vertical-align: middle;\n",
       "    }\n",
       "\n",
       "    .dataframe tbody tr th {\n",
       "        vertical-align: top;\n",
       "    }\n",
       "\n",
       "    .dataframe thead th {\n",
       "        text-align: right;\n",
       "    }\n",
       "</style>\n",
       "<table border=\"1\" class=\"dataframe\">\n",
       "  <thead>\n",
       "    <tr style=\"text-align: right;\">\n",
       "      <th></th>\n",
       "      <th>Age</th>\n",
       "      <th>Address</th>\n",
       "      <th>Qualification</th>\n",
       "    </tr>\n",
       "    <tr>\n",
       "      <th>Name</th>\n",
       "      <th></th>\n",
       "      <th></th>\n",
       "      <th></th>\n",
       "    </tr>\n",
       "  </thead>\n",
       "  <tbody>\n",
       "    <tr>\n",
       "      <th>Abhi</th>\n",
       "      <td>32</td>\n",
       "      <td>Aligarh</td>\n",
       "      <td>MA</td>\n",
       "    </tr>\n",
       "    <tr>\n",
       "      <th>Anuj</th>\n",
       "      <td>24</td>\n",
       "      <td>Kanpur</td>\n",
       "      <td>MA</td>\n",
       "    </tr>\n",
       "    <tr>\n",
       "      <th>Gaurav</th>\n",
       "      <td>33</td>\n",
       "      <td>Jaunpur</td>\n",
       "      <td>B.Tech</td>\n",
       "    </tr>\n",
       "    <tr>\n",
       "      <th>Jai</th>\n",
       "      <td>27</td>\n",
       "      <td>Nagpur</td>\n",
       "      <td>Msc</td>\n",
       "    </tr>\n",
       "    <tr>\n",
       "      <th>Princi</th>\n",
       "      <td>32</td>\n",
       "      <td>Kannuaj</td>\n",
       "      <td>Phd</td>\n",
       "    </tr>\n",
       "  </tbody>\n",
       "</table>\n",
       "</div>"
      ],
      "text/plain": [
       "        Age  Address Qualification\n",
       "Name                              \n",
       "Abhi     32  Aligarh            MA\n",
       "Anuj     24   Kanpur            MA\n",
       "Gaurav   33  Jaunpur        B.Tech\n",
       "Jai      27   Nagpur           Msc\n",
       "Princi   32  Kannuaj           Phd"
      ]
     },
     "execution_count": 3,
     "metadata": {},
     "output_type": "execute_result"
    }
   ],
   "source": [
    "# applying groupby() function to\n",
    "# group the data on Name value.\n",
    "gk = df.groupby('Name')\n",
    "   \n",
    "# Let's print the first entries\n",
    "# in all the groups formed.\n",
    "gk.first()"
   ]
  },
  {
   "cell_type": "markdown",
   "id": "bfee9f11",
   "metadata": {},
   "source": [
    "### Grouping data with multiple keys : \n",
    "In order to group data with multiple keys, we pass multiple keys in groupby function. "
   ]
  },
  {
   "cell_type": "code",
   "execution_count": 10,
   "id": "13c043bc",
   "metadata": {},
   "outputs": [
    {
     "name": "stdout",
     "output_type": "stream",
     "text": [
      "     Name  Age    Address Qualification\n",
      "0     Jai   27     Nagpur           Msc\n",
      "1    Anuj   24     Kanpur            MA\n",
      "2     Jai   22  Allahabad           MCA\n",
      "3  Princi   32    Kannuaj           Phd\n",
      "4  Gaurav   33    Jaunpur        B.Tech\n",
      "5    Anuj   36     Kanpur         B.com\n",
      "6  Princi   27  Allahabad           Msc\n",
      "7    Abhi   32    Aligarh            MA\n",
      "8    Anuj   32     Kanpur         B.com\n"
     ]
    }
   ],
   "source": [
    "# importing pandas module\n",
    "import pandas as pd\n",
    "  \n",
    "# Define a dictionary containing employee data\n",
    "data1 = {'Name':['Jai', 'Anuj', 'Jai', 'Princi',\n",
    "                 'Gaurav', 'Anuj', 'Princi', 'Abhi', \"Anuj\"],\n",
    "        'Age':[27, 24, 22, 32,\n",
    "               33, 36, 27, 32,32],\n",
    "        'Address':['Nagpur', 'Kanpur', 'Allahabad', 'Kannuaj',\n",
    "                   'Jaunpur', 'Kanpur', 'Allahabad', 'Aligarh','Kanpur'],\n",
    "        'Qualification':['Msc', 'MA', 'MCA', 'Phd',\n",
    "                         'B.Tech', 'B.com', 'Msc', 'MA','B.com']}\n",
    "    \n",
    "  \n",
    "# Convert the dictionary into DataFrame \n",
    "df = pd.DataFrame(data1)\n",
    "  \n",
    "print(df)"
   ]
  },
  {
   "cell_type": "code",
   "execution_count": 11,
   "id": "1c9d2ac3",
   "metadata": {},
   "outputs": [
    {
     "name": "stdout",
     "output_type": "stream",
     "text": [
      "{('Abhi', 'MA'): [7], ('Anuj', 'B.com'): [5, 8], ('Anuj', 'MA'): [1], ('Gaurav', 'B.Tech'): [4], ('Jai', 'MCA'): [2], ('Jai', 'Msc'): [0], ('Princi', 'Msc'): [6], ('Princi', 'Phd'): [3]}\n"
     ]
    }
   ],
   "source": [
    "# Using multiple keys in\n",
    "# groupby() function\n",
    "df.groupby(['Name', 'Qualification'])\n",
    " \n",
    "print(df.groupby(['Name', 'Qualification']).groups)"
   ]
  },
  {
   "cell_type": "markdown",
   "id": "4fd715de",
   "metadata": {},
   "source": [
    "### Grouping data by sorting keys : \n",
    "Group keys are sorted by default using the groupby operation. User can pass sort=False for potential speedups."
   ]
  },
  {
   "cell_type": "code",
   "execution_count": 12,
   "id": "f7988605",
   "metadata": {},
   "outputs": [
    {
     "name": "stdout",
     "output_type": "stream",
     "text": [
      "     Name  Age\n",
      "0     Jai   27\n",
      "1    Anuj   24\n",
      "2     Jai   22\n",
      "3  Princi   32\n",
      "4  Gaurav   33\n",
      "5    Anuj   36\n",
      "6  Princi   27\n",
      "7    Abhi   32\n"
     ]
    }
   ],
   "source": [
    "# importing pandas module\n",
    "import pandas as pd\n",
    "  \n",
    "# Define a dictionary containing employee data\n",
    "data1 = {'Name':['Jai', 'Anuj', 'Jai', 'Princi',\n",
    "                 'Gaurav', 'Anuj', 'Princi', 'Abhi'],\n",
    "        'Age':[27, 24, 22, 32,\n",
    "               33, 36, 27, 32], }\n",
    "    \n",
    "  \n",
    "# Convert the dictionary into DataFrame \n",
    "df = pd.DataFrame(data1)\n",
    "  \n",
    "print(df)"
   ]
  },
  {
   "cell_type": "code",
   "execution_count": 13,
   "id": "30f38402",
   "metadata": {},
   "outputs": [
    {
     "data": {
      "text/html": [
       "<div>\n",
       "<style scoped>\n",
       "    .dataframe tbody tr th:only-of-type {\n",
       "        vertical-align: middle;\n",
       "    }\n",
       "\n",
       "    .dataframe tbody tr th {\n",
       "        vertical-align: top;\n",
       "    }\n",
       "\n",
       "    .dataframe thead th {\n",
       "        text-align: right;\n",
       "    }\n",
       "</style>\n",
       "<table border=\"1\" class=\"dataframe\">\n",
       "  <thead>\n",
       "    <tr style=\"text-align: right;\">\n",
       "      <th></th>\n",
       "      <th>Age</th>\n",
       "    </tr>\n",
       "    <tr>\n",
       "      <th>Name</th>\n",
       "      <th></th>\n",
       "    </tr>\n",
       "  </thead>\n",
       "  <tbody>\n",
       "    <tr>\n",
       "      <th>Abhi</th>\n",
       "      <td>32</td>\n",
       "    </tr>\n",
       "    <tr>\n",
       "      <th>Anuj</th>\n",
       "      <td>60</td>\n",
       "    </tr>\n",
       "    <tr>\n",
       "      <th>Gaurav</th>\n",
       "      <td>33</td>\n",
       "    </tr>\n",
       "    <tr>\n",
       "      <th>Jai</th>\n",
       "      <td>49</td>\n",
       "    </tr>\n",
       "    <tr>\n",
       "      <th>Princi</th>\n",
       "      <td>59</td>\n",
       "    </tr>\n",
       "  </tbody>\n",
       "</table>\n",
       "</div>"
      ],
      "text/plain": [
       "        Age\n",
       "Name       \n",
       "Abhi     32\n",
       "Anuj     60\n",
       "Gaurav   33\n",
       "Jai      49\n",
       "Princi   59"
      ]
     },
     "execution_count": 13,
     "metadata": {},
     "output_type": "execute_result"
    }
   ],
   "source": [
    "# using groupby function\n",
    "# without using sort\n",
    " \n",
    "df.groupby(['Name']).sum()"
   ]
  },
  {
   "cell_type": "markdown",
   "id": "3a39cbda",
   "metadata": {},
   "source": [
    "Now we apply groupby() using sort in order to attain potential speedups \n",
    " "
   ]
  },
  {
   "cell_type": "code",
   "execution_count": 14,
   "id": "5bb8be3f",
   "metadata": {},
   "outputs": [
    {
     "data": {
      "text/html": [
       "<div>\n",
       "<style scoped>\n",
       "    .dataframe tbody tr th:only-of-type {\n",
       "        vertical-align: middle;\n",
       "    }\n",
       "\n",
       "    .dataframe tbody tr th {\n",
       "        vertical-align: top;\n",
       "    }\n",
       "\n",
       "    .dataframe thead th {\n",
       "        text-align: right;\n",
       "    }\n",
       "</style>\n",
       "<table border=\"1\" class=\"dataframe\">\n",
       "  <thead>\n",
       "    <tr style=\"text-align: right;\">\n",
       "      <th></th>\n",
       "      <th>Age</th>\n",
       "    </tr>\n",
       "    <tr>\n",
       "      <th>Name</th>\n",
       "      <th></th>\n",
       "    </tr>\n",
       "  </thead>\n",
       "  <tbody>\n",
       "    <tr>\n",
       "      <th>Jai</th>\n",
       "      <td>49</td>\n",
       "    </tr>\n",
       "    <tr>\n",
       "      <th>Anuj</th>\n",
       "      <td>60</td>\n",
       "    </tr>\n",
       "    <tr>\n",
       "      <th>Princi</th>\n",
       "      <td>59</td>\n",
       "    </tr>\n",
       "    <tr>\n",
       "      <th>Gaurav</th>\n",
       "      <td>33</td>\n",
       "    </tr>\n",
       "    <tr>\n",
       "      <th>Abhi</th>\n",
       "      <td>32</td>\n",
       "    </tr>\n",
       "  </tbody>\n",
       "</table>\n",
       "</div>"
      ],
      "text/plain": [
       "        Age\n",
       "Name       \n",
       "Jai      49\n",
       "Anuj     60\n",
       "Princi   59\n",
       "Gaurav   33\n",
       "Abhi     32"
      ]
     },
     "execution_count": 14,
     "metadata": {},
     "output_type": "execute_result"
    }
   ],
   "source": [
    "# using groupby function\n",
    "# with sort\n",
    " \n",
    "df.groupby(['Name'], sort = False).sum()"
   ]
  },
  {
   "cell_type": "markdown",
   "id": "825cbe8e",
   "metadata": {},
   "source": [
    "### Grouping data with object attributes : \n",
    "Groups attribute is like dictionary whose keys are the computed unique groups and corresponding values being the axis labels belonging to each group. "
   ]
  },
  {
   "cell_type": "code",
   "execution_count": 15,
   "id": "19787593",
   "metadata": {},
   "outputs": [
    {
     "name": "stdout",
     "output_type": "stream",
     "text": [
      "     Name  Age    Address Qualification\n",
      "0     Jai   27     Nagpur           Msc\n",
      "1    Anuj   24     Kanpur            MA\n",
      "2     Jai   22  Allahabad           MCA\n",
      "3  Princi   32    Kannuaj           Phd\n",
      "4  Gaurav   33    Jaunpur        B.Tech\n",
      "5    Anuj   36     Kanpur         B.com\n",
      "6  Princi   27  Allahabad           Msc\n",
      "7    Abhi   32    Aligarh            MA\n"
     ]
    }
   ],
   "source": [
    "# importing pandas module\n",
    "import pandas as pd\n",
    "  \n",
    "# Define a dictionary containing employee data\n",
    "data1 = {'Name':['Jai', 'Anuj', 'Jai', 'Princi',\n",
    "                 'Gaurav', 'Anuj', 'Princi', 'Abhi'],\n",
    "        'Age':[27, 24, 22, 32,\n",
    "               33, 36, 27, 32],\n",
    "        'Address':['Nagpur', 'Kanpur', 'Allahabad', 'Kannuaj',\n",
    "                   'Jaunpur', 'Kanpur', 'Allahabad', 'Aligarh'],\n",
    "        'Qualification':['Msc', 'MA', 'MCA', 'Phd',\n",
    "                         'B.Tech', 'B.com', 'Msc', 'MA']}\n",
    "    \n",
    "  \n",
    "# Convert the dictionary into DataFrame \n",
    "df = pd.DataFrame(data1)\n",
    "  \n",
    "print(df)\n"
   ]
  },
  {
   "cell_type": "markdown",
   "id": "46f94b2c",
   "metadata": {},
   "source": [
    "Now we group data like we do in a dictionary using keys."
   ]
  },
  {
   "cell_type": "code",
   "execution_count": 16,
   "id": "20258786",
   "metadata": {},
   "outputs": [
    {
     "data": {
      "text/plain": [
       "{'Aligarh': [7], 'Allahabad': [2, 6], 'Jaunpur': [4], 'Kannuaj': [3], 'Kanpur': [1, 5], 'Nagpur': [0]}"
      ]
     },
     "execution_count": 16,
     "metadata": {},
     "output_type": "execute_result"
    }
   ],
   "source": [
    "# using keys for grouping\n",
    "# data\n",
    " \n",
    "df.groupby('Address').groups"
   ]
  },
  {
   "cell_type": "markdown",
   "id": "809a2c7d",
   "metadata": {},
   "source": [
    "## Iterating through groups\n",
    "In order to iterate an element of groups, we can iterate through the object similar to itertools.obj. \n",
    " "
   ]
  },
  {
   "cell_type": "code",
   "execution_count": 17,
   "id": "90c6e10c",
   "metadata": {},
   "outputs": [
    {
     "name": "stdout",
     "output_type": "stream",
     "text": [
      "     Name  Age    Address Qualification\n",
      "0     Jai   27     Nagpur           Msc\n",
      "1    Anuj   24     Kanpur            MA\n",
      "2     Jai   22  Allahabad           MCA\n",
      "3  Princi   32    Kannuaj           Phd\n",
      "4  Gaurav   33    Jaunpur        B.Tech\n",
      "5    Anuj   36     Kanpur         B.com\n",
      "6  Princi   27  Allahabad           Msc\n",
      "7    Abhi   32    Aligarh            MA\n"
     ]
    }
   ],
   "source": [
    "# importing pandas module\n",
    "import pandas as pd\n",
    "  \n",
    "# Define a dictionary containing employee data\n",
    "data1 = {'Name':['Jai', 'Anuj', 'Jai', 'Princi',\n",
    "                 'Gaurav', 'Anuj', 'Princi', 'Abhi'],\n",
    "        'Age':[27, 24, 22, 32,\n",
    "               33, 36, 27, 32],\n",
    "        'Address':['Nagpur', 'Kanpur', 'Allahabad', 'Kannuaj',\n",
    "                   'Jaunpur', 'Kanpur', 'Allahabad', 'Aligarh'],\n",
    "        'Qualification':['Msc', 'MA', 'MCA', 'Phd',\n",
    "                         'B.Tech', 'B.com', 'Msc', 'MA']}\n",
    "    \n",
    "  \n",
    "# Convert the dictionary into DataFrame \n",
    "df = pd.DataFrame(data1)\n",
    "  \n",
    "print(df)"
   ]
  },
  {
   "cell_type": "code",
   "execution_count": 5,
   "id": "f41735ed",
   "metadata": {},
   "outputs": [
    {
     "name": "stdout",
     "output_type": "stream",
     "text": [
      "Abhi\n",
      "   Name  Age  Address Qualification\n",
      "7  Abhi   32  Aligarh            MA\n",
      "\n",
      "Anuj\n",
      "   Name  Age Address Qualification\n",
      "1  Anuj   24  Kanpur            MA\n",
      "5  Anuj   36  Kanpur         B.com\n",
      "\n",
      "Gaurav\n",
      "     Name  Age  Address Qualification\n",
      "4  Gaurav   33  Jaunpur        B.Tech\n",
      "\n",
      "Jai\n",
      "  Name  Age    Address Qualification\n",
      "0  Jai   27     Nagpur           Msc\n",
      "2  Jai   22  Allahabad           MCA\n",
      "\n",
      "Princi\n",
      "     Name  Age    Address Qualification\n",
      "3  Princi   32    Kannuaj           Phd\n",
      "6  Princi   27  Allahabad           Msc\n",
      "\n"
     ]
    }
   ],
   "source": [
    "# iterating an element\n",
    "# of group\n",
    " \n",
    "grp = df.groupby('Name')\n",
    "for name, group in grp:\n",
    "    print(name)\n",
    "    print(group)\n",
    "    print()"
   ]
  },
  {
   "cell_type": "code",
   "execution_count": 18,
   "id": "a5a67676",
   "metadata": {},
   "outputs": [
    {
     "name": "stdout",
     "output_type": "stream",
     "text": [
      "('Abhi', 'MA')\n",
      "   Name  Age  Address Qualification\n",
      "7  Abhi   32  Aligarh            MA\n",
      "\n",
      "('Anuj', 'B.com')\n",
      "   Name  Age Address Qualification\n",
      "5  Anuj   36  Kanpur         B.com\n",
      "\n",
      "('Anuj', 'MA')\n",
      "   Name  Age Address Qualification\n",
      "1  Anuj   24  Kanpur            MA\n",
      "\n",
      "('Gaurav', 'B.Tech')\n",
      "     Name  Age  Address Qualification\n",
      "4  Gaurav   33  Jaunpur        B.Tech\n",
      "\n",
      "('Jai', 'MCA')\n",
      "  Name  Age    Address Qualification\n",
      "2  Jai   22  Allahabad           MCA\n",
      "\n",
      "('Jai', 'Msc')\n",
      "  Name  Age Address Qualification\n",
      "0  Jai   27  Nagpur           Msc\n",
      "\n",
      "('Princi', 'Msc')\n",
      "     Name  Age    Address Qualification\n",
      "6  Princi   27  Allahabad           Msc\n",
      "\n",
      "('Princi', 'Phd')\n",
      "     Name  Age  Address Qualification\n",
      "3  Princi   32  Kannuaj           Phd\n",
      "\n"
     ]
    }
   ],
   "source": [
    "# iterating an element\n",
    "# of group containing\n",
    "# multiple keys\n",
    " \n",
    "grp = df.groupby(['Name', 'Qualification'])\n",
    "for name, group in grp:\n",
    "    print(name)\n",
    "    print(group)\n",
    "    print()"
   ]
  },
  {
   "cell_type": "markdown",
   "id": "2ff37d14",
   "metadata": {},
   "source": [
    "## Selecting a groups\n",
    "In order to select a group, we can select group using GroupBy.get_group(). We can select a group by applying a function GroupBy.get_group this function select a single group. "
   ]
  },
  {
   "cell_type": "code",
   "execution_count": 19,
   "id": "a352f776",
   "metadata": {},
   "outputs": [
    {
     "name": "stdout",
     "output_type": "stream",
     "text": [
      "     Name  Age    Address Qualification\n",
      "0     Jai   27     Nagpur           Msc\n",
      "1    Anuj   24     Kanpur            MA\n",
      "2     Jai   22  Allahabad           MCA\n",
      "3  Princi   32    Kannuaj           Phd\n",
      "4  Gaurav   33    Jaunpur        B.Tech\n",
      "5    Anuj   36     Kanpur         B.com\n",
      "6  Princi   27  Allahabad           Msc\n",
      "7    Abhi   32    Aligarh            MA\n"
     ]
    }
   ],
   "source": [
    "# importing pandas module\n",
    "import pandas as pd\n",
    "  \n",
    "# Define a dictionary containing employee data\n",
    "data1 = {'Name':['Jai', 'Anuj', 'Jai', 'Princi',\n",
    "                 'Gaurav', 'Anuj', 'Princi', 'Abhi'],\n",
    "        'Age':[27, 24, 22, 32,\n",
    "               33, 36, 27, 32],\n",
    "        'Address':['Nagpur', 'Kanpur', 'Allahabad', 'Kannuaj',\n",
    "                   'Jaunpur', 'Kanpur', 'Allahabad', 'Aligarh'],\n",
    "        'Qualification':['Msc', 'MA', 'MCA', 'Phd',\n",
    "                         'B.Tech', 'B.com', 'Msc', 'MA']}\n",
    "    \n",
    "  \n",
    "# Convert the dictionary into DataFrame \n",
    "df = pd.DataFrame(data1)\n",
    "  \n",
    "print(df)\n"
   ]
  },
  {
   "cell_type": "code",
   "execution_count": 26,
   "id": "d5260024",
   "metadata": {},
   "outputs": [
    {
     "data": {
      "text/plain": [
       "Name                   Jai\n",
       "Age                     22\n",
       "Address          Allahabad\n",
       "Qualification          MCA\n",
       "dtype: object"
      ]
     },
     "execution_count": 26,
     "metadata": {},
     "output_type": "execute_result"
    }
   ],
   "source": [
    "# selecting a single group\n",
    " \n",
    "grp = df.groupby('Name')\n",
    "grp.get_group('Jai').min()"
   ]
  },
  {
   "cell_type": "markdown",
   "id": "5cd98384",
   "metadata": {},
   "source": [
    "Now we select an object grouped on multiple columns "
   ]
  },
  {
   "cell_type": "code",
   "execution_count": 24,
   "id": "c1452c37",
   "metadata": {},
   "outputs": [
    {
     "data": {
      "text/html": [
       "<div>\n",
       "<style scoped>\n",
       "    .dataframe tbody tr th:only-of-type {\n",
       "        vertical-align: middle;\n",
       "    }\n",
       "\n",
       "    .dataframe tbody tr th {\n",
       "        vertical-align: top;\n",
       "    }\n",
       "\n",
       "    .dataframe thead th {\n",
       "        text-align: right;\n",
       "    }\n",
       "</style>\n",
       "<table border=\"1\" class=\"dataframe\">\n",
       "  <thead>\n",
       "    <tr style=\"text-align: right;\">\n",
       "      <th></th>\n",
       "      <th>Name</th>\n",
       "      <th>Age</th>\n",
       "      <th>Address</th>\n",
       "      <th>Qualification</th>\n",
       "    </tr>\n",
       "  </thead>\n",
       "  <tbody>\n",
       "    <tr>\n",
       "      <th>0</th>\n",
       "      <td>Jai</td>\n",
       "      <td>27</td>\n",
       "      <td>Nagpur</td>\n",
       "      <td>Msc</td>\n",
       "    </tr>\n",
       "  </tbody>\n",
       "</table>\n",
       "</div>"
      ],
      "text/plain": [
       "  Name  Age Address Qualification\n",
       "0  Jai   27  Nagpur           Msc"
      ]
     },
     "execution_count": 24,
     "metadata": {},
     "output_type": "execute_result"
    }
   ],
   "source": [
    "# selecting object grouped\n",
    "# on multiple columns\n",
    " \n",
    "grp = df.groupby(['Name', 'Qualification'])\n",
    "grp.get_group(('Jai', 'Msc')).head()"
   ]
  },
  {
   "cell_type": "code",
   "execution_count": null,
   "id": "9d216644",
   "metadata": {},
   "outputs": [],
   "source": [
    "type()"
   ]
  },
  {
   "cell_type": "code",
   "execution_count": null,
   "id": "76cc1be3",
   "metadata": {},
   "outputs": [],
   "source": []
  }
 ],
 "metadata": {
  "kernelspec": {
   "display_name": "Python 3",
   "language": "python",
   "name": "python3"
  },
  "language_info": {
   "codemirror_mode": {
    "name": "ipython",
    "version": 3
   },
   "file_extension": ".py",
   "mimetype": "text/x-python",
   "name": "python",
   "nbconvert_exporter": "python",
   "pygments_lexer": "ipython3",
   "version": "3.9.4"
  }
 },
 "nbformat": 4,
 "nbformat_minor": 5
}
