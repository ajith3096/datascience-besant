{
 "cells": [
  {
   "cell_type": "markdown",
   "id": "99bfa5f4",
   "metadata": {},
   "source": [
    "# What is Pandas?\n",
    "Pandas is a Python library used for working with data sets.\n",
    "\n",
    "It has functions for analyzing, cleaning, exploring, and manipulating data.\n",
    "\n",
    "The name \"Pandas\" has a reference to both \"Panel Data\", and \"Python Data Analysis\" and was created by Wes McKinney in 2008."
   ]
  },
  {
   "cell_type": "markdown",
   "id": "6414dea9",
   "metadata": {},
   "source": [
    "# Why Use Pandas?\n",
    "Pandas allows us to analyze big data and make conclusions based on statistical theories.\n",
    "\n",
    "Pandas can clean messy data sets, and make them readable and relevant.\n",
    "\n",
    "Relevant data is very important in data science."
   ]
  },
  {
   "cell_type": "markdown",
   "id": "4a701f12",
   "metadata": {},
   "source": [
    "# What Can Pandas Do?\n",
    "Pandas gives you answers about the data. Like:\n",
    "\n",
    "Is there a correlation between two or more columns?\n",
    "\n",
    "What is average value?\n",
    "\n",
    "Max value?\n",
    "\n",
    "Min value?\n",
    "\n",
    "Pandas are also able to delete rows that are not relevant, or contains wrong values, like empty or NULL values. This is called cleaning the data."
   ]
  },
  {
   "cell_type": "markdown",
   "id": "19191c7b",
   "metadata": {},
   "source": [
    "# Where is the Pandas Codebase?\n",
    "The source code for Pandas is located at this github repository https://github.com/pandas-dev/pandas"
   ]
  },
  {
   "cell_type": "markdown",
   "id": "0a35a4d4",
   "metadata": {},
   "source": [
    "# Installation of Pandas\n",
    "If you have Python and PIP already installed on a system, then installation of Pandas is very easy.\n",
    "\n",
    "Install it using this command:"
   ]
  },
  {
   "cell_type": "code",
   "execution_count": null,
   "id": "5ce6b78f",
   "metadata": {},
   "outputs": [],
   "source": [
    "C:\\Users\\Your Name>pip install pandas"
   ]
  }
 ],
 "metadata": {
  "kernelspec": {
   "display_name": "Python 3",
   "language": "python",
   "name": "python3"
  },
  "language_info": {
   "codemirror_mode": {
    "name": "ipython",
    "version": 3
   },
   "file_extension": ".py",
   "mimetype": "text/x-python",
   "name": "python",
   "nbconvert_exporter": "python",
   "pygments_lexer": "ipython3",
   "version": "3.9.4"
  }
 },
 "nbformat": 4,
 "nbformat_minor": 5
}
